{
 "cells": [
  {
   "cell_type": "markdown",
   "metadata": {},
   "source": [
    "## SVD and truncation\n",
    "We previously mentioned that it is often handy to disregard eigenvalues past a certain value, i.e. truncate the SVD to the first, say, $r$ eigenvalues/eigenvectors. How do we decide how big $r$ needs to be. There are two approaches:\n",
    "1. Energy-based thresholding: given a target of variance to be capturd (e.g. 90%), this method computes the number of eigenvalues/vectors necessary to hit this target.   \n",
    "2. Hard thresholding: this is based on theory and needs to know (a) the noise level, the dimension of the matrix (Gavish and Donoho \"The Optimal Hard Threshold for Singular Values is $4/\\sqrt{3}$\"). \n",
    "\n",
    "The entire premise of Gavish and Donoho is that you can write your data as:\n",
    "\n",
    "$$\n",
    "X = X_{\\mathrm{true}} + \\gamma X_{\\mathrm{noise}}\n",
    "$$\n",
    "\n",
    "where $X_{\\mathrm{noise}}$ is such that $x_{i,j} \\sim \\mathcal{N}(0, 1)$. Gavish and Donoho realised that the SVD of $X_{\\mathrm{noise}}$ allows them to define a noise floor. Therefore, the optimal threshold to exclude noise it to take all the eigenvalues/vectors above the \"noise floor\".\n",
    "\n",
    "Let's assume (unrealistically) we know the $\\gamma$ and $X$ is square. We will truncate all $\\sigma < \\tau$ where $\\tau = \\frac{4}{\\sqrt{3}} \\gamma \\sqrt{n}$ (where $n$ is the dimension of the square matrix).\n",
    "\n",
    "If $X$ is rectangular and $\\gamma$ is unknown. In this case we can calculate the median singular value $\\sigma_{\\mathrm{med}}$ and the aspect ratio of the matrix $\\beta = \\frac{n}{m}$ we can infer the noise distribution (i.e. the set of eigenvalues that will only be determined by the noise). From there one can infer the maximum singular value due to noise, and, therefore, the cut-off $\\tau = \\omega(\\beta)\\sigma_{\\mathrm{med}}$."
   ]
  },
  {
   "cell_type": "code",
   "execution_count": null,
   "metadata": {},
   "outputs": [],
   "source": []
  }
 ],
 "metadata": {
  "kernelspec": {
   "display_name": "JuliaPro_v1.5.4-1 1.5.4",
   "language": "julia",
   "name": "juliapro_v1.5.4-1-1.5"
  },
  "language_info": {
   "name": "julia"
  },
  "orig_nbformat": 4
 },
 "nbformat": 4,
 "nbformat_minor": 2
}
