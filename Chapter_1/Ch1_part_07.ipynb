{
 "cells": [
  {
   "cell_type": "markdown",
   "metadata": {},
   "source": [
    "## SVD and truncation\n",
    "We previously mentioned that it is often handy to disregard eigenvalues past a certain value, i.e. truncate the SVD to the first, say, $r$ eigenvalues/eigenvectors. How do we decide how big $r$ needs to be. There are two approaches:\n",
    "1. Energy-based thresholding: given a target of variance to be capturd (e.g. 90%), this method computes the number of eigenvalues/vectors necessary to hit this target.   \n",
    "2. Hard thresholding: this is based on theory and needs to know (a) the noise level, the dimension of the matrix (Gavish and Donoho \"The Optimal Hard Threshold for Singular Values is $4/\\sqrt{3}$\"). "
   ]
  },
  {
   "cell_type": "code",
   "execution_count": null,
   "metadata": {},
   "outputs": [],
   "source": []
  }
 ],
 "metadata": {
  "kernelspec": {
   "display_name": "JuliaPro_v1.5.4-1 1.5.4",
   "language": "julia",
   "name": "juliapro_v1.5.4-1-1.5"
  },
  "language_info": {
   "name": "julia"
  },
  "orig_nbformat": 4
 },
 "nbformat": 4,
 "nbformat_minor": 2
}
