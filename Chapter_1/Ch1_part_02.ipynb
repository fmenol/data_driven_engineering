{
 "cells": [
  {
   "cell_type": "markdown",
   "metadata": {},
   "source": [
    "# Chapter 1\n",
    "## Method of snapshots"
   ]
  },
  {
   "cell_type": "markdown",
   "metadata": {},
   "source": [
    "This method is helpful to compute SVD when $\\mathbf{X}$ cannot be all stored in memory.\n",
    "Let's assume we can't load  $\\mathbf{X}$ in memory but we can load the individual vectors $x_1$, $x_2$, ..., $x_n$. We want to calculate its SVD. Then, we can compute $\\mathbf{X}^T\\mathbf{X}$ and remember that (_a_) you only need to load 2 vectors at a time as the $x_{ij}$ element of the correlation matrix is just inner product of each pair of vectors and (_b_) you can use SVD on $\\mathbf{X}^T\\mathbf{X}$ to get $\\mathbf{V}$ and $\\mathbf{\\Sigma}$.\n",
    "\n",
    "$$\n",
    "\\mathbf{X}^T\\mathbf{X} =\n",
    "\\left[ \n",
    "\\begin{matrix}\n",
    "x_1^Tx_1 & x_1^Tx_2 & ... & x_1^Tx_m\\\\\n",
    "x_2^Tx_1 & x_2^Tx_2 & ... & x_2^Tx_m\\\\\n",
    "\\vdots & \\vdots & \\ddots & \\vdots \\\\\n",
    "x_n^Tx_1 & x_n^Tx_2 & ... & x_n^Tx_m\\\\\n",
    "\\end{matrix}\\right] =\n",
    "\\hat{\\mathbf{V}} \\hat{\\mathbf{\\Sigma}}^2 \\hat{\\mathbf{V}}^T\n",
    "$$\n",
    "\n",
    "Then you can use this formula:\n",
    "\n",
    "$$\n",
    "\\mathbf{X} =  \\hat{\\mathbf{U}} \\hat{\\mathbf{\\Sigma}} \\hat{\\mathbf{V}}^T\n",
    "$$\n",
    "\n",
    "to solve for $\\mathbf{U}$\n",
    "\n",
    "$$\n",
    "\\hat{\\mathbf{U}} = \\mathbf{X} \\hat{\\mathbf{V}} \\hat{\\mathbf{\\Sigma}}^{-1}\n",
    "$$\n",
    "\n",
    "where you can do this efficiently by loading in memory pieces of $\\mathbf{X}$."
   ]
  },
  {
   "cell_type": "markdown",
   "metadata": {},
   "source": [
    "## Unitary matrices and transformations"
   ]
  },
  {
   "cell_type": "markdown",
   "metadata": {},
   "source": [
    "Let's remind ourselves what a Unitary matrix is. $\\mathbf{U}$ is unitary if:\n",
    "\n",
    "$$\n",
    "\\mathbf{U}\\mathbf{U}^T=\\mathbf{U}^T\\mathbf{U}=\\mathbb{I}\n",
    "$$\n",
    "\n",
    "This applies to both $\\mathbf{U}$ and $\\mathbf{V}$ in an SVD.\n",
    "> **_NOTE_** Unitary matrices *preserve angle and length* between/of vectors in a transformation. They just rotate vectors.\n",
    "\n",
    "We can also say that if $\\mathbf{U}$ is unitary, then\n",
    "\n",
    "$$\n",
    "<x,y> = <Ux,Uy>\n",
    "$$\n",
    "\n",
    "the inner product between two vectors is not altered by the transformation in $\\mathbf{U}$."
   ]
  },
  {
   "cell_type": "markdown",
   "metadata": {},
   "source": [
    "### Example of unitary transformation\n",
    "Assume we have a sphere enclosing all the unitary vectors in a space $\\mathbb{R}^m$. Take a vector in this infinite set:\n",
    "\n",
    "$$ \\mathcal{v} \\in \\mathbb{R}^m\n",
    "$$\n",
    "\n",
    "now assume we have a matrix $\\mathbf{X} \\in \\mathbb{R}^{n \\times m}$. We can apply SVD:\n",
    "\n",
    "$$\n",
    "\\mathbf{X} =  \\mathbf{U} \\mathbf{\\Sigma} \\mathbf{V}^T\n",
    "$$\n",
    "\n"
   ]
  },
  {
   "cell_type": "markdown",
   "metadata": {},
   "source": []
  }
 ],
 "metadata": {
  "kernelspec": {
   "display_name": "Julia 1.7.3",
   "language": "julia",
   "name": "julia-1.7"
  },
  "language_info": {
   "name": "julia",
   "version": "3.6.13"
  },
  "orig_nbformat": 4,
  "vscode": {
   "interpreter": {
    "hash": "c7a70db9d531d6dd80c25b9f1d2725db6a2644ebf002a6e912882f79f6b1a032"
   }
  }
 },
 "nbformat": 4,
 "nbformat_minor": 2
}
