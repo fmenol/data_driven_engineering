{
 "cells": [
  {
   "cell_type": "markdown",
   "metadata": {},
   "source": [
    "# Chapter 1\n",
    "## Method of snapshots"
   ]
  },
  {
   "cell_type": "markdown",
   "metadata": {},
   "source": [
    "This method is helpful to compute SVD when $\\mathbf{X}$ cannot be all stored in memory.\n",
    "Let's assume we can't load  $\\mathbf{X}$ in memory but we can load the individual vectors $x_1$, $x_2$, ..., $x_n$. We want to calculate its SVD. Then, we can:\n",
    "\n",
    "- Compute $\\mathbf{X}^T\\mathbf{X}$, remember (_a_) that you only need to load 2 vectors at a time as the $x_{ij}$ element of the correlation matrix is just inner products of each pair of vectors and (_b_) \n",
    "\n",
    "$$\n",
    "\\mathbf{X}^T\\mathbf{X} =\n",
    "\\left[\n",
    "\\begin{matrix}\n",
    "- & x_1^T & -\\\\\n",
    "- & x_2^T & -\\\\\n",
    "- & \\vdots & -\\\\\n",
    "- & x_m^T & -\\\\\n",
    "\\end{matrix}\n",
    "\\right]\n",
    "\\left[ \n",
    "\\begin{matrix}\n",
    "|&|&   &|\\\\\n",
    "|&|&   &|\\\\\n",
    "|&|&   &|\\\\\n",
    "x_1 & x_2 & ... & x_m\\\\\n",
    "|&|&   &|\\\\\n",
    "|&|&   &|\\\\\n",
    "|&|&   &|\\\\\n",
    "\\end{matrix}\\right] =\n",
    "\\left[ \n",
    "\\begin{matrix}\n",
    "x_1^Tx_1 & x_1^Tx_2 & ... & x_1^Tx_m\\\\\n",
    "x_2^Tx_1 & x_2^Tx_2 & ... & x_2^Tx_m\\\\\n",
    "\\vdots & \\vdots & \\ddots & \\vdots \\\\\n",
    "x_n^Tx_1 & x_n^Tx_2 & ... & x_n^Tx_m\\\\\n",
    "\\end{matrix}\\right]\n",
    "$$"
   ]
  },
  {
   "cell_type": "code",
   "execution_count": null,
   "metadata": {},
   "outputs": [],
   "source": []
  }
 ],
 "metadata": {
  "kernelspec": {
   "display_name": "Python 3.6.13 ('stockmgmt')",
   "language": "python",
   "name": "python3"
  },
  "language_info": {
   "name": "python",
   "version": "3.6.13"
  },
  "orig_nbformat": 4,
  "vscode": {
   "interpreter": {
    "hash": "c7a70db9d531d6dd80c25b9f1d2725db6a2644ebf002a6e912882f79f6b1a032"
   }
  }
 },
 "nbformat": 4,
 "nbformat_minor": 2
}
