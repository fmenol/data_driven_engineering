{
 "cells": [
  {
   "cell_type": "markdown",
   "metadata": {},
   "source": [
    "# Chapter 1\n",
    "## Tensor decomposition\n",
    "\n",
    "This section deals with a simple concept: to decompose a 2D matrix, so far, we have _vectorised_ it, i.e. we made a long thing vector of a rectangular matrix. What if we did not need to? Because we actually didn't. \n",
    "\n",
    "Tensor decomposition extends matrix decomposition to N-dimensional arrays, i.e. tensors. The principle is simple: if SVD decomposes a matrix $X$ into:\n",
    "\n",
    "$$\n",
    "X = \\sum_{j=1}^{m} \\sigma_j * U_j \\circ V_j\n",
    "$$\n",
    "\n",
    "i.e. a sum of rank-1 matrices where $U_j$ and $V_j$ are a column and row vector respsectively, then we can certainly extend this to the 3 dimensional case, just by adding a outer product to a new vector (that captures the third dimension mode, e.g. time, if x and y are space)\n",
    "\n",
    "$$\n",
    "X = \\sum_{j=1}^{m} \\sigma_j * U_j \\circ V_j \\circ Z_j\n",
    "$$\n",
    "\n",
    "this is, again, the sum of rank 1 3D arrays (tensors). \n",
    "\n",
    "Let's see an example. Let's initialise the veriables `x`, `y` and `t` to represent a discretisation of the three domains our signals will be defined over."
   ]
  },
  {
   "cell_type": "code",
   "execution_count": 1,
   "metadata": {},
   "outputs": [
    {
     "data": {
      "text/plain": [
       "0.0:0.1:31.400000000000002"
      ]
     },
     "execution_count": 1,
     "metadata": {},
     "output_type": "execute_result"
    }
   ],
   "source": [
    "x=-5:0.1:5\n",
    "y=-6:0.1:6\n",
    "t=0:0.1:10*π"
   ]
  },
  {
   "cell_type": "code",
   "execution_count": 4,
   "metadata": {},
   "outputs": [],
   "source": [
    "X=repeat(x', length(y),1,length(t));\n",
    "Y=repeat(y, 1, length(x),length(t));\n",
    "# repeat(t, length(y), length(x))\n",
    "T=repeat(reshape(t, 1,1,length(t)),length(y),length(x))\n",
    "A=exp.(-(X.^2+0.5.*Y.^2)).*(cos.(2*T)).+ (sech.(X).*tanh.(X).*exp.(-0.2.*Y.^2)).*sin.(T);"
   ]
  },
  {
   "cell_type": "markdown",
   "metadata": {},
   "source": []
  },
  {
   "cell_type": "code",
   "execution_count": null,
   "metadata": {},
   "outputs": [],
   "source": []
  }
 ],
 "metadata": {
  "kernelspec": {
   "display_name": "Julia 1.7.3",
   "language": "julia",
   "name": "julia-1.7"
  },
  "language_info": {
   "file_extension": ".jl",
   "mimetype": "application/julia",
   "name": "julia",
   "version": "1.7.3"
  },
  "orig_nbformat": 4
 },
 "nbformat": 4,
 "nbformat_minor": 2
}
