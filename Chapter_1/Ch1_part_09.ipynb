{
 "cells": [
  {
   "cell_type": "markdown",
   "metadata": {},
   "source": [
    "# Chapter 1\n",
    "## Tensor decomposition\n",
    "\n",
    "This section deals with a simple concept: to decompose a 2D matrix, so far, we have _vectorised_ it, i.e. we made a long thing vector of a rectangular matrix. What if we did not need to? Because we actually didn't. \n",
    "\n",
    "Tensor decomposition extends matrix decomposition to N-dimensional arrays, i.e. tensors. The principle is simple: if SVD decomposes a matrix $X$ into:\n",
    "\n",
    "$$\n",
    "X = \\sum_{j=1}^{m} \\sigma_j * U_j \\circ V_j\n",
    "$$\n",
    "\n",
    "i.e. a sum of rank-1 matrices where $U_j$ and $V_j$ are a column and row vector respsectively, then we can certainly extend this to the 3 dimensional case, just by adding a outer product to a new vector (that captures the third dimension mode, e.g. time, if x and y are space)\n",
    "\n",
    "$$\n",
    "X = \\sum_{j=1}^{m} \\sigma_j * U_j \\circ V_j \\circ Z_j\n",
    "$$\n",
    "\n",
    "this is, again, the sum of rank 1 3D arrays (tensors). \n",
    "\n",
    "Let's see an example.\n",
    "\n",
    "`x=-5:1:5\n",
    "\n",
    "y=-6:1:6 \n",
    "\n",
    "t=0:1:10*pi\n",
    "\n",
    "[X,Y,T]=meshgrid(x,y,t); \n",
    "\n",
    "A=exp(-(X.^2+0.5*Y.^2)).*(cos(2*T))+ (sech(X).*tanh(X).*exp(-0.2*Y.^2)).*sin(T)`"
   ]
  },
  {
   "cell_type": "code",
   "execution_count": 14,
   "metadata": {},
   "outputs": [
    {
     "data": {
      "text/plain": [
       "1:2"
      ]
     },
     "metadata": {},
     "output_type": "display_data"
    }
   ],
   "source": [
    "# x=-5:0.1:5\n",
    "# y=-6:0.1:6\n",
    "# t=0:0.1:10*π\n",
    "\n",
    "x = 1:4\n",
    "y = 5:7\n",
    "t = 1:2"
   ]
  },
  {
   "cell_type": "code",
   "execution_count": 46,
   "metadata": {},
   "outputs": [
    {
     "ename": "MethodError",
     "evalue": "MethodError: no method matching exp(::Array{Float64, 3})\nClosest candidates are:\n  exp(!Matched::Union{Float16, Float32, Float64}) at C:\\Users\\Filippo Menolascina\\.julia\\juliaup\\julia-1.7.3+0.x64\\share\\julia\\base\\special\\exp.jl:296\n  exp(!Matched::StridedMatrix{var\"#s861\"} where var\"#s861\"<:Union{Float32, Float64, ComplexF32, ComplexF64}) at C:\\Users\\Filippo Menolascina\\.julia\\juliaup\\julia-1.7.3+0.x64\\share\\julia\\stdlib\\v1.7\\LinearAlgebra\\src\\dense.jl:560\n  exp(!Matched::StridedMatrix{var\"#s861\"} where var\"#s861\"<:Union{Integer, Complex{<:Integer}}) at C:\\Users\\Filippo Menolascina\\.julia\\juliaup\\julia-1.7.3+0.x64\\share\\julia\\stdlib\\v1.7\\LinearAlgebra\\src\\dense.jl:561\n  ...",
     "output_type": "error",
     "traceback": [
      "MethodError: no method matching exp(::Array{Float64, 3})\n",
      "Closest candidates are:\n",
      "  exp(!Matched::Union{Float16, Float32, Float64}) at C:\\Users\\Filippo Menolascina\\.julia\\juliaup\\julia-1.7.3+0.x64\\share\\julia\\base\\special\\exp.jl:296\n",
      "  exp(!Matched::StridedMatrix{var\"#s861\"} where var\"#s861\"<:Union{Float32, Float64, ComplexF32, ComplexF64}) at C:\\Users\\Filippo Menolascina\\.julia\\juliaup\\julia-1.7.3+0.x64\\share\\julia\\stdlib\\v1.7\\LinearAlgebra\\src\\dense.jl:560\n",
      "  exp(!Matched::StridedMatrix{var\"#s861\"} where var\"#s861\"<:Union{Integer, Complex{<:Integer}}) at C:\\Users\\Filippo Menolascina\\.julia\\juliaup\\julia-1.7.3+0.x64\\share\\julia\\stdlib\\v1.7\\LinearAlgebra\\src\\dense.jl:561\n",
      "  ...\n",
      "\n",
      "Stacktrace:\n",
      " [1] top-level scope\n",
      "   @ c:\\Users\\Filippo Menolascina\\Documents\\GitHub\\data_driven_engineering\\Chapter_1\\Ch1_part_09.ipynb:6"
     ]
    }
   ],
   "source": [
    "X=repeat(x', length(y),1,length(t));\n",
    "Y=repeat(y, 1, length(x),length(t));\n",
    "# repeat(t, length(y), length(x))\n",
    "T=repeat(reshape(t, 1,1,length(t)),length(y),length(x))\n",
    "# test\n",
    "A=exp.(-(X.^2+0.5.*Y.^2)).*(cos.(2*T)).+ (sech.(X).*tanh.(X).*exp.(-0.2.*Y.^2)).*sin.(T)"
   ]
  },
  {
   "cell_type": "code",
   "execution_count": null,
   "metadata": {},
   "outputs": [],
   "source": []
  }
 ],
 "metadata": {
  "kernelspec": {
   "display_name": "Julia 1.7.3",
   "language": "julia",
   "name": "julia-1.7"
  },
  "language_info": {
   "file_extension": ".jl",
   "mimetype": "application/julia",
   "name": "julia",
   "version": "1.7.3"
  },
  "orig_nbformat": 4
 },
 "nbformat": 4,
 "nbformat_minor": 2
}
