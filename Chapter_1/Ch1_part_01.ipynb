{
 "cells": [
  {
   "cell_type": "markdown",
   "metadata": {},
   "source": [
    "# Chapter 1"
   ]
  },
  {
   "cell_type": "markdown",
   "metadata": {},
   "source": [
    "## Interpretation in terms of correlation\n"
   ]
  },
  {
   "cell_type": "markdown",
   "metadata": {},
   "source": [
    "We can think of $\\mathbf{U}$ and $\\mathbf{V}^T$ in terms of correlation of the rows and columns of $\\mathbf{X}$.\n",
    "To see this, let's assume $\\mathbf{X}$ is a tall-skinny matrix, then:\n",
    "\n",
    "$$\n",
    "\\mathbf{X}^T\\mathbf{X} =\n",
    "\\left[\n",
    "\\begin{matrix}\n",
    "- & x_1^T & -\\\\\n",
    "- & x_2^T & -\\\\\n",
    "- & \\vdots & -\\\\\n",
    "- & x_m^T & -\\\\\n",
    "\\end{matrix}\n",
    "\\right]\n",
    "\\left[ \n",
    "\\begin{matrix}\n",
    "|&|&   &|\\\\\n",
    "|&|&   &|\\\\\n",
    "|&|&   &|\\\\\n",
    "x_1 & x_2 & ... & x_m\\\\\n",
    "|&|&   &|\\\\\n",
    "|&|&   &|\\\\\n",
    "|&|&   &|\\\\\n",
    "\\end{matrix}\\right] =\n",
    "\\left[ \n",
    "\\begin{matrix}\n",
    "x_1^Tx_1 & x_1^Tx_2 & ... & x_1^Tx_m\\\\\n",
    "x_2^Tx_1 & x_2^Tx_2 & ... & x_2^Tx_m\\\\\n",
    "\\vdots & \\vdots & \\ddots & \\vdots \\\\\n",
    "x_n^Tx_1 & x_n^Tx_2 & ... & x_n^Tx_m\\\\\n",
    "\\end{matrix}\\right]\n",
    "$$\n",
    "Note that $\\mathbf{X}^T \\in \\mathbb{C}^{m \\times n}$ and  $\\mathbf{X} \\in \\mathbb{C}^{m\\times m}$. Therefore $\\mathbf{X}^T\\mathbf{X} \\in \\mathbb{C}^{m\\times m}$, where, if the number of experiments $m<<n$, with $n$ number of measurement per experiment, this correlation matrix is actually much smaller than  $\\mathbf{X}\\mathbf{X}^T$."
   ]
  },
  {
   "cell_type": "code",
   "execution_count": null,
   "metadata": {},
   "outputs": [],
   "source": []
  }
 ],
 "metadata": {
  "kernelspec": {
   "display_name": "Julia 1.7.3",
   "language": "julia",
   "name": "julia-1.7"
  },
  "language_info": {
   "name": "julia"
  },
  "orig_nbformat": 4
 },
 "nbformat": 4,
 "nbformat_minor": 2
}
