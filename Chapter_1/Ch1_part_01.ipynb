{
 "cells": [
  {
   "cell_type": "markdown",
   "metadata": {},
   "source": [
    "# Chapter 1"
   ]
  },
  {
   "cell_type": "markdown",
   "metadata": {},
   "source": [
    "## Interpretation in terms of correlation\n"
   ]
  },
  {
   "cell_type": "markdown",
   "metadata": {},
   "source": [
    "We can think of $\\mathbf{U}$ and $\\mathbf{V}^T$ in terms of correlation of the rows and columns of $\\mathbf{X}$.\n",
    "To see this, let's assume $\\mathbf{X}$ is a tall-skinny matrix, then:\n",
    "\n",
    "$$\n",
    "\\mathbf{X}^T\\mathbf{X} =\n",
    "\\left[\n",
    "\\begin{matrix}\n",
    "- & x_1^T & -\\\\\n",
    "- & x_2^T & -\\\\\n",
    "- & \\vdots & -\\\\\n",
    "- & x_m^T & -\\\\\n",
    "\\end{matrix}\n",
    "\\right]\n",
    "\\left[ \n",
    "\\begin{matrix}\n",
    "|&|&   &|\\\\\n",
    "|&|&   &|\\\\\n",
    "|&|&   &|\\\\\n",
    "x_1 & x_2 & ... & x_m\\\\\n",
    "|&|&   &|\\\\\n",
    "|&|&   &|\\\\\n",
    "|&|&   &|\\\\\n",
    "\\end{matrix}\\right] =\n",
    "\\left[ \n",
    "\\begin{matrix}\n",
    "x_1^Tx_1 & x_1^Tx_2 & ... & x_1^Tx_m\\\\\n",
    "x_2^Tx_1 & x_2^Tx_2 & ... & x_2^Tx_m\\\\\n",
    "\\vdots & \\vdots & \\ddots & \\vdots \\\\\n",
    "x_n^Tx_1 & x_n^Tx_2 & ... & x_n^Tx_m\\\\\n",
    "\\end{matrix}\\right]\n",
    "$$\n",
    "Note that $\\mathbf{X}^T \\in \\mathbb{R}^{m \\times n}$ and  $\\mathbf{X} \\in \\mathbb{R^{m\\times m}$. Therefore $\\mathbf{X}^T\\mathbf{X} \\in \\mathbb{R}^{m\\times m}$, where, if the number of experiments $m<<n$, with $n$ number of measurement per experiment, this correlation matrix is actually much smaller than  $\\mathbf{X}\\mathbf{X}^T$.\n",
    "> **_NOTE_** If  $\\mathbf{C} \\in \\mathbb{R^{m\\times m}$, then, instead of transposing the matrix we use the \"complex conjugate transpose\".\n",
    "> **_NOTE_** Essentially, every entry in $\\mathbf{X}^T\\mathbf{X}$ is an inner product of the columns of the matrix $\\mathbf{X}$. This can be thought of as the correlation between each eigen-thing (e.g. eigen face) and the others.\n",
    "\n",
    "Now, if \n",
    "$$\n",
    "\\mathbf{X} =  \\mathbf{U} \\mathbf{\\Sigma} \\mathbf{V}^T\n",
    "$$,\n",
    "then \n",
    "$$\n",
    "\\mathbf{X}^T =  \\mathbf{V} \\mathbf{\\Sigma}^T \\mathbf{U}^T =  \\mathbf{V} \\mathbf{\\Sigma} \\mathbf{U}^T\n",
    "$$\n",
    "\n",
    "(remember that (_a_) when we transpose a product we invert the order and transpose each factor, (_b_) the transpose of a diagonal matrix is the same matrix). Then:\n",
    "\n",
    "$$\n",
    "\\mathbf{X}^T\\mathbf{X} = \\mathbf{V} \\mathbf{\\Sigma} \\mathbf{U}^T\\mathbf{U} \\mathbf{\\Sigma} \\mathbf{V}^T\n",
    "$$\n",
    "but remember that $\\mathbf{U}$ is a unitary matrix, then $\\mathbf{U}^T\\mathbf{U}=\\mathbb{I}$ then\n",
    "\n",
    "$$\n",
    "\\mathbf{X}^T\\mathbf{X} = \\mathbf{V} \\mathbf{\\Sigma}^2 \\mathbf{V}^T\n",
    "$$\n",
    "\n",
    "or, in economy terms\n",
    "\n",
    "$$\n",
    "\\mathbf{X}^T\\mathbf{X} = \\hat{\\mathbf{V}} \\hat{\\mathbf{\\Sigma}}^2 \\hat{\\mathbf{V}}^T\n",
    "$$\n",
    "\n",
    "This is the eigendecomposition of $\\mathbf{X}^T\\mathbf{X}$. We can see this, since:\n",
    "\n",
    "$$\n",
    "\\mathbf{X}^T\\mathbf{X}\\mathbf{V} = \\mathbf{V}\\mathbf{\\Sigma}^2\n",
    "$$\n",
    "\n",
    "The $\\Sigma^2$ are the eigenvalues of the columnwise correlation matrix $\\mathbf{X}^T\\mathbf{X}$ and $\\mathbf{V}$ are the eigenvectors of the same matrix. You can obviously repeat this for $\\mathbf{X}\\mathbf{X}^T$ and see that $\\mathbf{U}$ is the eigenvectors of the row-wise correlation matrix (you don't want to compute $\\mathbf{X}\\mathbf{X}^T$ because this is a $n \\times n$ matrix.)"
   ]
  },
  {
   "cell_type": "code",
   "execution_count": null,
   "metadata": {},
   "outputs": [],
   "source": []
  }
 ],
 "metadata": {
  "kernelspec": {
   "display_name": "Julia 1.7.3",
   "language": "julia",
   "name": "julia-1.7"
  },
  "language_info": {
   "name": "julia"
  },
  "orig_nbformat": 4
 },
 "nbformat": 4,
 "nbformat_minor": 2
}
