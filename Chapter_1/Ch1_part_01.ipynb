{
 "cells": [
  {
   "cell_type": "markdown",
   "metadata": {},
   "source": [
    "# Chapter 1"
   ]
  },
  {
   "cell_type": "markdown",
   "metadata": {},
   "source": [
    "To recap, SVD allows us to write a matrix $\\mathbf{X}$ as:\n",
    "\n",
    "$$\\mathbf{X} = \\mathbf{U} \\mathbf{\\Sigma} \\mathbf{V}^T\n",
    "$$\n",
    "$$\n",
    "\\mathbf{X} = \n",
    "\\left[ \n",
    "\\begin{matrix}\n",
    "|&|&   &|\\\\\n",
    "x_1 & x_2 & ... & x_m\\\\\n",
    "|&|&   &|\\\\\n",
    "\\end{matrix}\\right]\n",
    " = \n",
    "\\mathbf{U} \\mathbf{\\Sigma} \\mathbf{V}^T =\n",
    "\n",
    "\\left[ \n",
    "\\begin{matrix}\n",
    "|&|&   &|\\\\\n",
    "u_1 & u_2 & ... & u_n\\\\\n",
    "|&|&   &|\\\\\n",
    "\\end{matrix}\n",
    "\\right]\n",
    "\n",
    "\\left[ \n",
    "\\begin{matrix}\n",
    "\\sigma_1&0& ...   &0\\\\\n",
    "0 & \\sigma_2 & ... &0\\\\\n",
    "0 & 0 & ... &\\sigma_m\\\\\n",
    "0&0& ... &0\\\\\n",
    "\\vdots& \\vdots& \\ddots &\\vdots\\\\\n",
    "0&0& ... &0\\\\\n",
    "\\end{matrix}\n",
    "\\right]\n",
    "\n",
    "\\left[ \n",
    "\\begin{matrix}\n",
    "- &v_1^T&- \\\\\n",
    "- & v_2^T&- \\\\\n",
    "& \\vdots& \\\\\n",
    "\\end{matrix}\n",
    "\\right]\n",
    "$$\n",
    "\n",
    "Where there can only my $m$ independent columns of $\\mathbf{U}$ (because there are $m$ columns of $\\mathbf{X}$, so that's the column span). Also note that $\\mathbf{U} \\mathbf{\\Sigma}$ corresponds to scaling $u_1$ by $\\sigma_1$, $u_2$ by $\\sigma_2$ etc.\n",
    "\n",
    "> **_NOTE_** Matrix multiplication can essentially be reinterpreted as \"row of the matrix on the right times column of the matrix on the left\"\n",
    "\n",
    "Therefore, we can select:\n",
    "- The first $m$ columns of $\\mathbf{U}$\n",
    "- the \"top $m \\times m $ block\" of $\\mathbf{\\Sigma}$\n",
    "- and the rows of $\\mathbf{V}^T$ \n",
    "\n",
    "This is also called \"economy SVD\".\n",
    "The \"Economy SVD\" is still infinitely precise. I can \"save\" by restricting my analysis to the first $r$ eigenvalues/vectors. \n",
    "\n",
    "> **_NOTE_** The Eckert-Young [1936] theorem states that the best rank $r$ approximation of a matrix $\\mathbf{X}$ in terms of its Frobenius-Perron norm $|| \\mathbf{X} - \\tilde{\\mathbf{X}}||_F$ is $\\tilde{\\mathbf{U}} \\tilde{\\mathbf{\\Sigma}} \\tilde{\\mathbf{V}}^T$, i.e. the results of SVD taking the first $r$ eigenvalues/eigenvectors.\n",
    "\n",
    "> **_NOTE_** If I cut $\\mathbf{U}$, this is not a square matrix anymore, and not a unitary matrix anymore. In fact:\n",
    "\n",
    "$$\n",
    "\\tilde{\\mathbf{U}}\\tilde{\\mathbf{U}}^T \\neq \\mathbb{I}\n",
    "$$\n",
    "but\n",
    "$$\n",
    "\\tilde{\\mathbf{U}}^T\\tilde{\\mathbf{U}} = \\mathbb{I}\n",
    "$$\n",
    "\n",
    "> **_NOTE_** Frobenius norm of a matrix $\\mathbf{A}$, $||A||_F$ is $\\sqrt{\\sum_{i,j}A_{i,j}^2}$\n",
    "\n"
   ]
  },
  {
   "cell_type": "markdown",
   "metadata": {},
   "source": [
    "\n",
    "\n"
   ]
  },
  {
   "cell_type": "code",
   "execution_count": null,
   "metadata": {},
   "outputs": [],
   "source": []
  }
 ],
 "metadata": {
  "kernelspec": {
   "display_name": "Julia 1.7.3",
   "language": "julia",
   "name": "julia-1.7"
  },
  "language_info": {
   "name": "julia"
  },
  "orig_nbformat": 4
 },
 "nbformat": 4,
 "nbformat_minor": 2
}
