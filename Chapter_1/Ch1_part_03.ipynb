{
 "cells": [
  {
   "cell_type": "markdown",
   "metadata": {},
   "source": [
    "# Chapter 1\n",
    "## Linear systems of equations\n",
    "\n",
    "Let's assume we need to solve a linear system of equations:\n",
    "\n",
    "$$\n",
    "\\mathbf{A} x = b\n",
    "$$\n",
    "\n",
    "We mostly focused on $\\mathbf{A}$ square and invertible (i.e. same number of knowns and unknowns and $\\mathbf{A}^{-1}$ exists). What if $\\mathbf{A}$ is non-square? SVD helps with this.\n",
    "There are 2 canonical cases of this type:\n",
    "\n",
    "1. _Underdetermined_ case ($n < m$) \"short/fat A matrix\": there's not enough elements of $b$ to determine a solution\n",
    "2. _Overdetermined_ case ($n > m$) \"tall/skinny A matix\": there might not be any solution to the system\n",
    "\n",
    "SVD allows us to calculate the pseudoinverse that allows to get the best approximation to the solution of this system. Then\n",
    "If\n",
    "\n",
    "$$\n",
    "\\mathbf{A} = \\mathbf{U} \\mathbf{\\Sigma} \\mathbf{V}^T\n",
    "$$\n",
    "(assuming this is an \"economy\" SVD and dropping the hats)\n",
    "allows us to calculate pseudoinverse of $\\mathbf{A}$, $\\mathbf{A}^{\\dagger}$ -called the \"Moore-Penrose\" pseudoinverse. Let's see how.\n",
    "\n",
    "$$\n",
    "\\mathbf{A}x=b \\Rightarrow \\mathbf{U} \\mathbf{\\Sigma} \\mathbf{V}^T x = b\n",
    "$$\n",
    "which allows us to solve for $x$ by inverting each matrix 1-by-1 (remember that $\\mathbf{U}\\mathbf{U}^T=\\mathbf{U}^T\\mathbf{U}=\\mathbb{I}$ and same applies to $\\mathbf{V}$).\n",
    "Then\n",
    "\n",
    "$$\n",
    "\\begin{align}\n",
    "\\mathbf{U}^T \\mathbf{U} \\mathbf{\\Sigma} \\mathbf{V}^T x &= \\mathbf{U} b \\\\\n",
    "\\mathbf{\\Sigma}^{-1}\\mathbb{I} \\mathbf{\\Sigma} \\mathbf{V}^T x &= \\mathbf{\\Sigma}^{-1} \\mathbf{U}^T b \\\\\n",
    "\\mathbf{V} \\mathbb{I}\\; \\mathbb{I} \\mathbf{V}^T x &= \\mathbf{V} \\mathbf{\\Sigma}^{-1} \\mathbf{U}^T b \\\\\n",
    "\\mathbb{I}\\; \\mathbb{I}\\; \\mathbb{I}x &= \\mathbf{V} \\mathbf{\\Sigma}^{-1} \\mathbf{U}^T b \\\\\n",
    "x &= \\mathbf{V} \\mathbf{\\Sigma}^{-1} \\mathbf{U}^T b \\\\\n",
    "x &= \\mathbf{A}^{\\dagger}b \n",
    "\\end{align}\n",
    "$$\n",
    "where $\\mathbf{A}^{\\dagger} = \\mathbf{V} \\mathbf{\\Sigma}^{-1} \\mathbf{U}^T$ (technically the _left_ pseudoinverse)\n",
    "\n",
    "The solution $x$ of this system has a specific meaning. In case (1), the _underdetermined_ case, $\\tilde{x} = \\arg \\min_x ||\\tilde{x}||_2\\;\\;\\mathrm{s.t.}\\; A\\tilde{x} =b$. In case (2), the overdetermined case, the solution to the system is $\\tilde{x}  = \\arg \\min_x ||A\\tilde{x} -b||_2$. Essentially: \n",
    "1. in the underdetermined case, of all the solutions, the pseudoinverse gives us the \"minium energy one\"\n",
    "2. in the overdetermined case, the pseudoinverse gives us the solution that minimises the discrepancy (least squares) between the data (b) and the predictions ($A\\tilde{x}$) -given that NO MODEL can fit _perfectly_ the data\n",
    "\n",
    "While in the undertermined case $\\tilde{x}$ is a legitimate solution of the system, in the overdetermined one it is not. Let's see where the error comes in. Let's expand the solution in the latter case:\n",
    "\n",
    "$$A\\tilde{x} = \\underbrace{\\mathbf{U} \\mathbf{\\Sigma} \\mathbf{V}^T}_{A} \\underbrace{\\mathbf{V} \\mathbf{\\Sigma}^{-1} \\mathbf{U}^T\\;b}_{\\tilde{x}}$$\n",
    "\n",
    "Now, remember we are using the economy SVD and, in that case, only $\\mathbf{U}^T\\mathbf{U}=\\mathbb{I}$. Specifically: $\\mathbf{U}\\mathbf{U}^T\\neq\\mathbb{I}$. This means that we should actually write:\n",
    "\n",
    "$$\n",
    "\\begin{align}\n",
    "\\mathbf{A}\\tilde{x} &= b\\\\\n",
    "\\mathbf{A} \\mathbf{V} \\mathbf{\\Sigma}^{-1} \\mathbf{U}^T b &= b\\\\\n",
    "\\mathbf{U} \\mathbf{\\Sigma} \\mathbf{V}^T \\mathbf{V} \\mathbf{\\Sigma}^{-1} \\mathbf{U}^T b &= b\\\\\n",
    "\\mathbf{U} \\mathbf{U}^T b = b\n",
    "\\end{align}\n",
    "$$\n",
    "Obviously, based on what we said above, $\\mathbf{U} \\mathbf{U}^T$ is not the identity matrix, and this is where the \"error\" crops up. What is this \"error\"? It is easy to interpret $\\mathbf{U} \\mathbf{U}^T$ as the orthogonal transformation that projects $b$ onto the column space of $\\mathbf{U}$ (which, remember, is the same as the column space of the original matrix $\\mathbf{A}$). In practice, what is happening here is that the $\\tilde{x}$ we get back is the set of coefficients that solve the linear system by projecting $b$ onto the columnspace of $\\mathcal{A}$. To be more clear: in the _overtermined case_ (i.e. more equations than unknowns), it is unlikely that we can express the generic (long) $b$ vector as a linear combination of the columns of $\\mathbf{A}$ (remember that this is what $\\mathbf{A}x$ does, take the columns of $\\amthbf{A}$, multiply the first column by the first element of x, the second column by the second element etc and sum all up). Then $\\mathbf{U} \\mathbf{U}^T$ \"solves\" this issue by \"forcing\" a solution that *certainly* lies in the columnspace of $\\mathbf{A}$ by projecting $b$ onto it through $\\mathbf{U} \\mathbf{U}^T$."
   ]
  },
  {
   "cell_type": "markdown",
   "metadata": {},
   "source": []
  }
 ],
 "metadata": {
  "kernelspec": {
   "display_name": "Python 3.6.13 ('stockmgmt')",
   "language": "python",
   "name": "python3"
  },
  "language_info": {
   "name": "python",
   "version": "3.6.13"
  },
  "orig_nbformat": 4,
  "vscode": {
   "interpreter": {
    "hash": "c7a70db9d531d6dd80c25b9f1d2725db6a2644ebf002a6e912882f79f6b1a032"
   }
  }
 },
 "nbformat": 4,
 "nbformat_minor": 2
}
