{
 "cells": [
  {
   "attachments": {},
   "cell_type": "markdown",
   "metadata": {},
   "source": [
    "# Chapter 2\n",
    "## Discrete Fourier Transform\n",
    "\n",
    "The FS applies to periodic functions and the FT to non periodic functions: in both cases the functions are continuous. What if we only have discrete data? This is where the Discrete Fourier Transform (DFT) comes in handy. Let's assume we have samples of an arbitrary function\n",
    "\n",
    "<p align=\"center\">\n",
    "<img src=\"./figures/dftfig.png\" width=\"600\">\n",
    "</p>\n",
    "\n",
    "We can collect the samples in a vector:\n",
    "\n",
    "$$\n",
    "\\mathbf{f}=\n",
    "\\begin{bmatrix}\n",
    "f_0\\\\\n",
    "f_1\\\\\n",
    "\\vdots\\\\\n",
    "f_n\n",
    "\\end{bmatrix}\n",
    "$$\n",
    "\n",
    "for each sample we will obtain a Fourier coefficient calculated as:\n",
    "\n",
    "$$\n",
    "\\hat{f}_k = \\sum_{j=0}^{n-1} f_j\\;e^{-i 2 \\pi j k/n}\n",
    "$$\n",
    "\n",
    "and, from the $f_k$'s we can go back to the samples using:\n",
    "\n",
    "$$\n",
    "f_k = \\frac{1}{2n}\\sum_{j=0}^{n-1} \\hat{f}_j\\;e^{i 2 \\pi j k/n}\n",
    "$$\n",
    "\n",
    "Which is the equivalent of the tranform-antitransform pair we saw for the FS/FT.\n",
    "\n",
    "# Section 2"
   ]
  },
  {
   "cell_type": "code",
   "execution_count": null,
   "metadata": {},
   "outputs": [],
   "source": []
  }
 ],
 "metadata": {
  "kernelspec": {
   "display_name": "Julia 1.7.3",
   "language": "julia",
   "name": "julia-1.7"
  },
  "language_info": {
   "file_extension": ".jl",
   "mimetype": "application/julia",
   "name": "julia",
   "version": "1.7.3"
  },
  "orig_nbformat": 4,
  "vscode": {
   "interpreter": {
    "hash": "73b50169936d38fd63c68b9511dbc7ef29aac07d5c1edb3785d9930814b3c104"
   }
  }
 },
 "nbformat": 4,
 "nbformat_minor": 2
}
