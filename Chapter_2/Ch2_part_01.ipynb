{
 "cells": [
  {
   "cell_type": "markdown",
   "metadata": {},
   "source": [
    "# Chapter 2\n",
    "## Fourier series\n",
    "### Preliminaries: Inner product of functions\n",
    "Assume we have two functions $f(x)$ and $g(x)$, their inneer product $<f(x),g(x)>$ is defined as\n",
    "\n",
    "$$\n",
    "<f(x),g(x)> = \\int_a^b f(x)\\;g^*(x)\\;\\;dx\n",
    "$$\n",
    "\n",
    "where $g^*(x)$ is the complex conjugate of $g(x)$\n",
    "\n",
    "\n",
    "<!-- <img src=\"./figures/hermitianInnerProduct.png\" width=\"800\"> -->"
   ]
  },
  {
   "cell_type": "code",
   "execution_count": null,
   "metadata": {},
   "outputs": [],
   "source": []
  }
 ],
 "metadata": {
  "kernelspec": {
   "display_name": "Julia 1.7.3",
   "language": "julia",
   "name": "julia-1.7"
  },
  "language_info": {
   "file_extension": ".jl",
   "mimetype": "application/julia",
   "name": "julia",
   "version": "1.7.3"
  },
  "orig_nbformat": 4,
  "vscode": {
   "interpreter": {
    "hash": "c7a70db9d531d6dd80c25b9f1d2725db6a2644ebf002a6e912882f79f6b1a032"
   }
  }
 },
 "nbformat": 4,
 "nbformat_minor": 2
}
