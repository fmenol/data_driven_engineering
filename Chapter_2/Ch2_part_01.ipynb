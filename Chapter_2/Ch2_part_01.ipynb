{
 "cells": [
  {
   "cell_type": "markdown",
   "metadata": {},
   "source": [
    "# Chapter 2\n",
    "## Fourier series\n",
    "### Preliminaries: Inner product of functions\n",
    "Assume we have two functions $f(x)$ and $g(x)$, their inneer product $<f(x),g(x)>$ is defined as\n",
    "\n",
    "$$\n",
    "<f(x),g(x)> = \\int_a^b f(x)\\;\\bar{g}(x)\\;\\;dx\n",
    "$$\n",
    "\n",
    "where $\\bar{g}(x)$ is the complex conjugate of $g(x)$. This is the _function_ equivalent of the inner product between two vectors. The inner product of functions projects one onto the other and tells us how much of the first function we can retried in the direction of the second. Seeing this with a vector example is easier. Let's assume we have our two functions, $f(x)$ and $g(x)$, and let's now assume we sampled them at $\\Delta x$ intervals, such that , if the functions are defined over the interval $[a,b]$ and we sampled $n$ equispaced points in such interval ($\\Delta x = \\frac{b-a}{n-1}$) then we would observe a picture like the following.\n",
    "\n",
    "<p align=\"center\">\n",
    "<img src=\"./figures/hermitianInnerProduct.png\" width=\"600\">\n",
    "</p>"
   ]
  },
  {
   "cell_type": "code",
   "execution_count": null,
   "metadata": {},
   "outputs": [],
   "source": []
  }
 ],
 "metadata": {
  "kernelspec": {
   "display_name": "Julia 1.7.3",
   "language": "julia",
   "name": "julia-1.7"
  },
  "language_info": {
   "file_extension": ".jl",
   "mimetype": "application/julia",
   "name": "julia",
   "version": "1.7.3"
  },
  "orig_nbformat": 4,
  "vscode": {
   "interpreter": {
    "hash": "c7a70db9d531d6dd80c25b9f1d2725db6a2644ebf002a6e912882f79f6b1a032"
   }
  }
 },
 "nbformat": 4,
 "nbformat_minor": 2
}
